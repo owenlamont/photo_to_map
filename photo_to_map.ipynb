{
 "cells": [
  {
   "cell_type": "markdown",
   "id": "1d51eece-e7dc-49e9-8163-08f800e0bc94",
   "metadata": {},
   "source": [
    "# Notebook to show Jpeg photos on a Map\n",
    "\n",
    "Need to check the image properties each have latitudes and longitudes (I haven't added any error checking logic to handle images with missing location meta data)."
   ]
  },
  {
   "cell_type": "code",
   "execution_count": null,
   "id": "0c332db8-2c56-496e-92de-715b50c7735f",
   "metadata": {
    "tags": []
   },
   "outputs": [],
   "source": [
    "from base64 import b64encode\n",
    "from io import BytesIO\n",
    "from pathlib import Path\n",
    "\n",
    "from ipyleaflet import Map, Marker, Popup\n",
    "from ipywidgets import HTML, Layout\n",
    "from PIL import Image\n",
    "from PIL.ExifTags import GPSTAGS, TAGS"
   ]
  },
  {
   "cell_type": "code",
   "execution_count": null,
   "id": "ffb34459-918c-4569-bc79-65a1844e01d0",
   "metadata": {
    "tags": []
   },
   "outputs": [],
   "source": [
    "def get_exif_data(image):\n",
    "    \"\"\"Returns a dictionary from the exif data of an PIL Image item. Also converts the GPS Tags\"\"\"\n",
    "    exif_data = {}\n",
    "    info = image._getexif()\n",
    "    if info:\n",
    "        for tag, value in info.items():\n",
    "            decoded = TAGS.get(tag, tag)\n",
    "            if decoded == \"GPSInfo\":\n",
    "                gps_data = {}\n",
    "                for gps_tag in value:\n",
    "                    sub_decoded = GPSTAGS.get(gps_tag, gps_tag)\n",
    "                    gps_data[sub_decoded] = value[gps_tag]\n",
    "\n",
    "                exif_data[decoded] = gps_data\n",
    "            else:\n",
    "                exif_data[decoded] = value\n",
    "\n",
    "    return exif_data\n",
    "\t\n",
    "def _convert_to_degrees(value):\n",
    "    d = value[0]\n",
    "    m = value[1]\n",
    "    s = value[2]\n",
    "    return d + (m / 60.0) + (s / 3600.0)\n",
    "\n",
    "def get_lat_lon(exif_data):\n",
    "    \"\"\"Returns the latitude and longitude, if available, from the provided exif_data (obtained through get_exif_data above)\"\"\"\n",
    "    lat = None\n",
    "    lon = None\n",
    "\n",
    "    if \"GPSInfo\" in exif_data:\t\t\n",
    "        gps_info = exif_data[\"GPSInfo\"]\n",
    "\n",
    "        gps_latitude = gps_info.get(\"GPSLatitude\")\n",
    "        gps_latitude_ref = gps_info.get('GPSLatitudeRef')\n",
    "        gps_longitude = gps_info.get('GPSLongitude')\n",
    "        gps_longitude_ref = gps_info.get('GPSLongitudeRef')\n",
    "\n",
    "        if gps_latitude and gps_latitude_ref and gps_longitude and gps_longitude_ref:\n",
    "            lat = _convert_to_degrees(gps_latitude)\n",
    "            if gps_latitude_ref != \"N\":                     \n",
    "                lat *= -1\n",
    "\n",
    "            lon = _convert_to_degrees(gps_longitude)\n",
    "            if gps_longitude_ref != \"E\":\n",
    "                lon *= -1\n",
    "\n",
    "    return lat, lon"
   ]
  },
  {
   "cell_type": "code",
   "execution_count": null,
   "id": "5d91ab3e-0903-4218-aa7a-6c1f2067c8e6",
   "metadata": {
    "tags": []
   },
   "outputs": [],
   "source": [
    "image_file_iterator = Path(\".\").glob(\"*.jpg\")\n",
    "pil_images = [Image.open(image_file) for image_file in image_file_iterator]\n",
    "exif_data_list = [get_exif_data(image) for image in pil_images]\n",
    "lat_lngs = [get_lat_lon(exif) for exif in exif_data_list]"
   ]
  },
  {
   "cell_type": "code",
   "execution_count": null,
   "id": "a846e8df-2c6a-4d69-ae40-ca7c0d4a1ad5",
   "metadata": {
    "tags": []
   },
   "outputs": [],
   "source": [
    "min_lat = min(lat_lngs, key=lambda coord: coord[0])[0]\n",
    "max_lat = max(lat_lngs, key=lambda coord: coord[0])[0]\n",
    "min_lng = min(lat_lngs, key=lambda coord: coord[1])[1]\n",
    "max_lng = max(lat_lngs, key=lambda coord: coord[1])[1]\n",
    "lat_delta = max_lat-min_lat\n",
    "lng_delta = max_lng-min_lng"
   ]
  },
  {
   "cell_type": "code",
   "execution_count": null,
   "id": "48ca29ba-ffdb-41ab-bff9-b1fbbc9bc72a",
   "metadata": {
    "tags": []
   },
   "outputs": [],
   "source": [
    "m = Map(layout=Layout(width='1024', height='768px'))\n",
    "m.fit_bounds([[min_lat, min_lng],[max_lat, max_lng]])\n",
    "\n",
    "for idx, image in enumerate(pil_images):\n",
    "    f = BytesIO()\n",
    "    image.save(f, \"jpeg\")\n",
    "    data = b64encode(f.getvalue())\n",
    "    data = data.decode('ascii')\n",
    "    url = 'data:image/{};base64,'.format(\"jpeg\") + data\n",
    "    \n",
    "    marker = Marker(location=lat_lngs[idx])\n",
    "    m.add_layer(marker)\n",
    "    message = HTML()\n",
    "    message.value = f\"\"\"<img src={url} style=\"max-width:400px\">\"\"\" + \"\"\"<style>.leaflet-popup-content { \n",
    "     width:auto !important; \n",
    "}</style>\"\"\"\n",
    "    \n",
    "    # Popup has a max_width parameter but it doesn't seem to change the underlying CSS property\n",
    "    # which is why width:auto !important; is set directly in the HTML style above\n",
    "    popup = Popup(\n",
    "        child=message,\n",
    "        location=lat_lngs[idx]\n",
    "    )\n",
    "\n",
    "    marker.popup = popup\n",
    "\n",
    "m"
   ]
  }
 ],
 "metadata": {
  "kernelspec": {
   "display_name": "Python 3 (ipykernel)",
   "language": "python",
   "name": "python3"
  },
  "language_info": {
   "codemirror_mode": {
    "name": "ipython",
    "version": 3
   },
   "file_extension": ".py",
   "mimetype": "text/x-python",
   "name": "python",
   "nbconvert_exporter": "python",
   "pygments_lexer": "ipython3",
   "version": "3.9.6"
  }
 },
 "nbformat": 4,
 "nbformat_minor": 5
}
